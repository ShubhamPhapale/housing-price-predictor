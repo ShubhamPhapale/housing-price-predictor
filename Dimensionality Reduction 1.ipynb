{
 "cells": [
  {
   "cell_type": "code",
   "execution_count": 1,
   "id": "c1edee5a",
   "metadata": {},
   "outputs": [],
   "source": [
    "import numpy as np\n",
    "import matplotlib.pyplot as plt\n",
    "import pandas as pd"
   ]
  },
  {
   "cell_type": "code",
   "execution_count": 4,
   "id": "ab2c17ac",
   "metadata": {},
   "outputs": [],
   "source": [
    "data = pd.read_csv('NaN_Housing_Prices.csv')"
   ]
  },
  {
   "cell_type": "code",
   "execution_count": 5,
   "id": "17e1f7c6",
   "metadata": {},
   "outputs": [
    {
     "data": {
      "text/plain": [
       "(5, 31)"
      ]
     },
     "execution_count": 5,
     "metadata": {},
     "output_type": "execute_result"
    }
   ],
   "source": [
    "data.head().shape"
   ]
  },
  {
   "cell_type": "code",
   "execution_count": 8,
   "id": "ccfd767a",
   "metadata": {},
   "outputs": [
    {
     "data": {
      "text/plain": [
       "Sale_Price                                       0\n",
       "No of Bedrooms                                   0\n",
       "No of Bathrooms                                  0\n",
       "Flat Area (in Sqft)                              0\n",
       "Lot Area (in Sqft)                               0\n",
       "No of Floors                                     0\n",
       "No of Times Visited                          19485\n",
       "Overall Grade                                    0\n",
       "Area of the House from Basement (in Sqft)        0\n",
       "Basement Area (in Sqft)                      13123\n",
       "Age of House (in Years)                          0\n",
       "Latitude                                         0\n",
       "Longitude                                        0\n",
       "Living Area after Renovation (in Sqft)           0\n",
       "Lot Area after Renovation (in Sqft)              0\n",
       "Years Since Renovation                       20695\n",
       "Condition_of_the_House_Excellent                 0\n",
       "Condition_of_the_House_Fair                      0\n",
       "Condition_of_the_House_Good                      0\n",
       "Condition_of_the_House_Okay                      0\n",
       "Ever_Renovated_Yes                               0\n",
       "Waterfront_View_Yes                              0\n",
       "Zipcode_Group_Zipcode_Group_1                    0\n",
       "Zipcode_Group_Zipcode_Group_2                    0\n",
       "Zipcode_Group_Zipcode_Group_3                    0\n",
       "Zipcode_Group_Zipcode_Group_4                    0\n",
       "Zipcode_Group_Zipcode_Group_5                    0\n",
       "Zipcode_Group_Zipcode_Group_6                    0\n",
       "Zipcode_Group_Zipcode_Group_7                    0\n",
       "Zipcode_Group_Zipcode_Group_8                    0\n",
       "Zipcode_Group_Zipcode_Group_9                    0\n",
       "dtype: int64"
      ]
     },
     "execution_count": 8,
     "metadata": {},
     "output_type": "execute_result"
    }
   ],
   "source": [
    "data.isnull().sum()"
   ]
  },
  {
   "cell_type": "code",
   "execution_count": 11,
   "id": "4f5462e9",
   "metadata": {},
   "outputs": [
    {
     "name": "stdout",
     "output_type": "stream",
     "text": [
      "Removing Column 'No of Times Visited' with missing value ratio 0.9017076218242399\n",
      "Removing Column 'Years Since Renovation' with missing value ratio 0.9577028090147623\n"
     ]
    }
   ],
   "source": [
    "for i in data.columns:\n",
    "    tmp = data[i].isnull().sum()/len(data)\n",
    "    if tmp > 0.70:\n",
    "        print(\"Removing Column '\"+i+\"' with missing value ratio\", tmp)\n",
    "        data = data.drop(columns = [i])"
   ]
  },
  {
   "cell_type": "code",
   "execution_count": null,
   "id": "f0aee8ca",
   "metadata": {},
   "outputs": [],
   "source": []
  }
 ],
 "metadata": {
  "kernelspec": {
   "display_name": "Python 3 (ipykernel)",
   "language": "python",
   "name": "python3"
  },
  "language_info": {
   "codemirror_mode": {
    "name": "ipython",
    "version": 3
   },
   "file_extension": ".py",
   "mimetype": "text/x-python",
   "name": "python",
   "nbconvert_exporter": "python",
   "pygments_lexer": "ipython3",
   "version": "3.9.7"
  }
 },
 "nbformat": 4,
 "nbformat_minor": 5
}
